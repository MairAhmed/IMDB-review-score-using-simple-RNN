{
 "cells": [
  {
   "cell_type": "code",
   "execution_count": 10,
   "metadata": {},
   "outputs": [],
   "source": [
    "# Step 1: Import Libraries and Load the Model\n",
    "import numpy as np\n",
    "import tensorflow as tf\n",
    "from tensorflow.keras.datasets import imdb\n",
    "from tensorflow.keras.preprocessing import sequence\n",
    "from tensorflow.keras.models import load_model"
   ]
  },
  {
   "cell_type": "code",
   "execution_count": 11,
   "metadata": {},
   "outputs": [],
   "source": [
    "\n",
    "# Load the IMDB dataset word index\n",
    "word_index = imdb.get_word_index()\n",
    "reverse_word_index = {value: key for key, value in word_index.items()}"
   ]
  },
  {
   "cell_type": "code",
   "execution_count": 12,
   "metadata": {},
   "outputs": [
    {
     "name": "stderr",
     "output_type": "stream",
     "text": [
      "WARNING:absl:Compiled the loaded model, but the compiled metrics have yet to be built. `model.compile_metrics` will be empty until you train or evaluate the model.\n"
     ]
    },
    {
     "data": {
      "text/html": [
       "<pre style=\"white-space:pre;overflow-x:auto;line-height:normal;font-family:Menlo,'DejaVu Sans Mono',consolas,'Courier New',monospace\"><span style=\"font-weight: bold\">Model: \"sequential\"</span>\n",
       "</pre>\n"
      ],
      "text/plain": [
       "\u001b[1mModel: \"sequential\"\u001b[0m\n"
      ]
     },
     "metadata": {},
     "output_type": "display_data"
    },
    {
     "data": {
      "text/html": [
       "<pre style=\"white-space:pre;overflow-x:auto;line-height:normal;font-family:Menlo,'DejaVu Sans Mono',consolas,'Courier New',monospace\">┏━━━━━━━━━━━━━━━━━━━━━━━━━━━━━━━━━┳━━━━━━━━━━━━━━━━━━━━━━━━┳━━━━━━━━━━━━━━━┓\n",
       "┃<span style=\"font-weight: bold\"> Layer (type)                    </span>┃<span style=\"font-weight: bold\"> Output Shape           </span>┃<span style=\"font-weight: bold\">       Param # </span>┃\n",
       "┡━━━━━━━━━━━━━━━━━━━━━━━━━━━━━━━━━╇━━━━━━━━━━━━━━━━━━━━━━━━╇━━━━━━━━━━━━━━━┩\n",
       "│ embedding (<span style=\"color: #0087ff; text-decoration-color: #0087ff\">Embedding</span>)           │ (<span style=\"color: #00af00; text-decoration-color: #00af00\">32</span>, <span style=\"color: #00af00; text-decoration-color: #00af00\">500</span>, <span style=\"color: #00af00; text-decoration-color: #00af00\">128</span>)         │     <span style=\"color: #00af00; text-decoration-color: #00af00\">1,280,000</span> │\n",
       "├─────────────────────────────────┼────────────────────────┼───────────────┤\n",
       "│ simple_rnn (<span style=\"color: #0087ff; text-decoration-color: #0087ff\">SimpleRNN</span>)          │ (<span style=\"color: #00af00; text-decoration-color: #00af00\">32</span>, <span style=\"color: #00af00; text-decoration-color: #00af00\">128</span>)              │        <span style=\"color: #00af00; text-decoration-color: #00af00\">32,896</span> │\n",
       "├─────────────────────────────────┼────────────────────────┼───────────────┤\n",
       "│ dense (<span style=\"color: #0087ff; text-decoration-color: #0087ff\">Dense</span>)                   │ (<span style=\"color: #00af00; text-decoration-color: #00af00\">32</span>, <span style=\"color: #00af00; text-decoration-color: #00af00\">1</span>)                │           <span style=\"color: #00af00; text-decoration-color: #00af00\">129</span> │\n",
       "└─────────────────────────────────┴────────────────────────┴───────────────┘\n",
       "</pre>\n"
      ],
      "text/plain": [
       "┏━━━━━━━━━━━━━━━━━━━━━━━━━━━━━━━━━┳━━━━━━━━━━━━━━━━━━━━━━━━┳━━━━━━━━━━━━━━━┓\n",
       "┃\u001b[1m \u001b[0m\u001b[1mLayer (type)                   \u001b[0m\u001b[1m \u001b[0m┃\u001b[1m \u001b[0m\u001b[1mOutput Shape          \u001b[0m\u001b[1m \u001b[0m┃\u001b[1m \u001b[0m\u001b[1m      Param #\u001b[0m\u001b[1m \u001b[0m┃\n",
       "┡━━━━━━━━━━━━━━━━━━━━━━━━━━━━━━━━━╇━━━━━━━━━━━━━━━━━━━━━━━━╇━━━━━━━━━━━━━━━┩\n",
       "│ embedding (\u001b[38;5;33mEmbedding\u001b[0m)           │ (\u001b[38;5;34m32\u001b[0m, \u001b[38;5;34m500\u001b[0m, \u001b[38;5;34m128\u001b[0m)         │     \u001b[38;5;34m1,280,000\u001b[0m │\n",
       "├─────────────────────────────────┼────────────────────────┼───────────────┤\n",
       "│ simple_rnn (\u001b[38;5;33mSimpleRNN\u001b[0m)          │ (\u001b[38;5;34m32\u001b[0m, \u001b[38;5;34m128\u001b[0m)              │        \u001b[38;5;34m32,896\u001b[0m │\n",
       "├─────────────────────────────────┼────────────────────────┼───────────────┤\n",
       "│ dense (\u001b[38;5;33mDense\u001b[0m)                   │ (\u001b[38;5;34m32\u001b[0m, \u001b[38;5;34m1\u001b[0m)                │           \u001b[38;5;34m129\u001b[0m │\n",
       "└─────────────────────────────────┴────────────────────────┴───────────────┘\n"
      ]
     },
     "metadata": {},
     "output_type": "display_data"
    },
    {
     "data": {
      "text/html": [
       "<pre style=\"white-space:pre;overflow-x:auto;line-height:normal;font-family:Menlo,'DejaVu Sans Mono',consolas,'Courier New',monospace\"><span style=\"font-weight: bold\"> Total params: </span><span style=\"color: #00af00; text-decoration-color: #00af00\">1,313,027</span> (5.01 MB)\n",
       "</pre>\n"
      ],
      "text/plain": [
       "\u001b[1m Total params: \u001b[0m\u001b[38;5;34m1,313,027\u001b[0m (5.01 MB)\n"
      ]
     },
     "metadata": {},
     "output_type": "display_data"
    },
    {
     "data": {
      "text/html": [
       "<pre style=\"white-space:pre;overflow-x:auto;line-height:normal;font-family:Menlo,'DejaVu Sans Mono',consolas,'Courier New',monospace\"><span style=\"font-weight: bold\"> Trainable params: </span><span style=\"color: #00af00; text-decoration-color: #00af00\">1,313,025</span> (5.01 MB)\n",
       "</pre>\n"
      ],
      "text/plain": [
       "\u001b[1m Trainable params: \u001b[0m\u001b[38;5;34m1,313,025\u001b[0m (5.01 MB)\n"
      ]
     },
     "metadata": {},
     "output_type": "display_data"
    },
    {
     "data": {
      "text/html": [
       "<pre style=\"white-space:pre;overflow-x:auto;line-height:normal;font-family:Menlo,'DejaVu Sans Mono',consolas,'Courier New',monospace\"><span style=\"font-weight: bold\"> Non-trainable params: </span><span style=\"color: #00af00; text-decoration-color: #00af00\">0</span> (0.00 B)\n",
       "</pre>\n"
      ],
      "text/plain": [
       "\u001b[1m Non-trainable params: \u001b[0m\u001b[38;5;34m0\u001b[0m (0.00 B)\n"
      ]
     },
     "metadata": {},
     "output_type": "display_data"
    },
    {
     "data": {
      "text/html": [
       "<pre style=\"white-space:pre;overflow-x:auto;line-height:normal;font-family:Menlo,'DejaVu Sans Mono',consolas,'Courier New',monospace\"><span style=\"font-weight: bold\"> Optimizer params: </span><span style=\"color: #00af00; text-decoration-color: #00af00\">2</span> (12.00 B)\n",
       "</pre>\n"
      ],
      "text/plain": [
       "\u001b[1m Optimizer params: \u001b[0m\u001b[38;5;34m2\u001b[0m (12.00 B)\n"
      ]
     },
     "metadata": {},
     "output_type": "display_data"
    }
   ],
   "source": [
    "# Load the pre-trained model with ReLU activation\n",
    "model = load_model('simple_rnn_imdb.h5')\n",
    "model.summary()"
   ]
  },
  {
   "cell_type": "code",
   "execution_count": 13,
   "metadata": {},
   "outputs": [
    {
     "data": {
      "text/plain": [
       "[array([[ 0.09103783, -0.12135503, -0.10771671, ..., -0.11728928,\n",
       "         -0.10122922, -0.05661411],\n",
       "        [ 0.00559151, -0.01601763, -0.03591502, ..., -0.01154106,\n",
       "         -0.03187128, -0.08611274],\n",
       "        [ 0.1338313 , -0.05030284, -0.14530027, ..., -0.17026445,\n",
       "         -0.16148102, -0.04291985],\n",
       "        ...,\n",
       "        [-0.05113595, -0.11271348, -0.107528  , ...,  0.07845742,\n",
       "         -0.0816699 , -0.04308468],\n",
       "        [-0.00674667, -0.02221678,  0.00034279, ...,  0.10621827,\n",
       "         -0.06803361,  0.00729808],\n",
       "        [ 0.00981525, -0.07793457, -0.04445149, ...,  0.04265645,\n",
       "         -0.1143989 , -0.05184014]], dtype=float32),\n",
       " array([[-0.11770704,  0.03237985,  0.03127773, ..., -0.08140863,\n",
       "         -0.02667236, -0.08796962],\n",
       "        [-0.1421643 ,  0.17740302, -0.02639093, ..., -0.00584851,\n",
       "          0.17543317,  0.08512471],\n",
       "        [ 0.02704745, -0.00783758, -0.06962559, ..., -0.09554579,\n",
       "          0.03281944, -0.14135455],\n",
       "        ...,\n",
       "        [ 0.03841685,  0.11048204,  0.13838343, ..., -0.18226005,\n",
       "         -0.03906631,  0.10915134],\n",
       "        [ 0.06300605, -0.02373218,  0.06026636, ...,  0.13006708,\n",
       "          0.07953759, -0.10721622],\n",
       "        [-0.06482019,  0.08105749,  0.02764546, ..., -0.11476298,\n",
       "          0.23223166, -0.05460848]], dtype=float32),\n",
       " array([[-0.02418402, -0.05925529, -0.1569416 , ...,  0.11255721,\n",
       "         -0.0715197 , -0.13669248],\n",
       "        [-0.1454489 , -0.1852325 ,  0.03903061, ..., -0.10168814,\n",
       "          0.02293916,  0.15321684],\n",
       "        [ 0.0289386 , -0.04017485,  0.14150341, ..., -0.06358014,\n",
       "         -0.2789973 ,  0.05260313],\n",
       "        ...,\n",
       "        [ 0.1693802 , -0.01825144, -0.16052024, ...,  0.12992181,\n",
       "         -0.01591454,  0.24069609],\n",
       "        [ 0.19670211, -0.07979759, -0.04632956, ...,  0.02626631,\n",
       "         -0.09291162, -0.09735332],\n",
       "        [-0.10919921,  0.09631878,  0.04832339, ...,  0.10152595,\n",
       "          0.06640693, -0.14384137]], dtype=float32),\n",
       " array([-0.00851119, -0.01770953, -0.00354951,  0.00079711, -0.01088099,\n",
       "         0.03966562,  0.00012964, -0.01140439,  0.00686367, -0.01959056,\n",
       "        -0.03134545,  0.0064144 ,  0.01355758, -0.02329051,  0.00635183,\n",
       "        -0.01099069, -0.00302117, -0.0255896 , -0.01389586, -0.02842   ,\n",
       "         0.02250212,  0.01837343, -0.00043812,  0.01567427, -0.02214633,\n",
       "         0.02841835, -0.00378774, -0.02590647,  0.03334522,  0.00437204,\n",
       "        -0.01403204,  0.02359243, -0.00799957,  0.01127153, -0.00292342,\n",
       "        -0.01026942, -0.01543416,  0.01619237,  0.03273131, -0.02180043,\n",
       "         0.02777523,  0.00775301,  0.00828655, -0.00358368,  0.00542898,\n",
       "        -0.00793018, -0.01078309, -0.01281992,  0.02520356, -0.0229156 ,\n",
       "        -0.01711291,  0.01375547,  0.01197639, -0.01785797, -0.00475092,\n",
       "         0.00399044, -0.02436722, -0.01172023,  0.00560272,  0.01453352,\n",
       "         0.01695855, -0.02010136,  0.00189485,  0.00114144, -0.02217749,\n",
       "        -0.00165465,  0.01636064,  0.01023215, -0.02596925,  0.00881818,\n",
       "        -0.01504708, -0.00874996, -0.00562828, -0.02107927,  0.00394739,\n",
       "         0.01233013,  0.02571754,  0.01886002,  0.0058937 , -0.01538407,\n",
       "        -0.00315148, -0.00712525, -0.00151647,  0.00178455,  0.04370972,\n",
       "         0.00161999,  0.00120991, -0.01012818,  0.0035543 ,  0.00531104,\n",
       "         0.00728756,  0.00228404, -0.01408489,  0.02156683,  0.03439758,\n",
       "        -0.01244549, -0.00309361, -0.02748442,  0.00897011, -0.03040126,\n",
       "        -0.03697949, -0.00744251, -0.0245165 , -0.00280301, -0.00524119,\n",
       "         0.02782847,  0.0215459 ,  0.02284558, -0.02344748, -0.02896686,\n",
       "        -0.02120227, -0.01879317,  0.01577002,  0.00609112,  0.01223225,\n",
       "        -0.02208278, -0.00069026, -0.02441285, -0.01544258, -0.00937225,\n",
       "        -0.00314772, -0.01627938,  0.00203491, -0.02545969, -0.02051882,\n",
       "         0.02344555, -0.02149601,  0.05499049], dtype=float32),\n",
       " array([[-4.80458625e-02],\n",
       "        [-1.25645787e-01],\n",
       "        [-7.53872022e-02],\n",
       "        [ 1.69772133e-01],\n",
       "        [-1.70575753e-01],\n",
       "        [-1.58126786e-01],\n",
       "        [ 2.52055407e-01],\n",
       "        [-1.24450974e-01],\n",
       "        [ 2.43748650e-01],\n",
       "        [-3.89459968e-01],\n",
       "        [-5.68685820e-04],\n",
       "        [-3.16966593e-01],\n",
       "        [ 2.87796129e-02],\n",
       "        [ 2.70944554e-02],\n",
       "        [ 4.40545440e-01],\n",
       "        [-6.07581548e-02],\n",
       "        [-2.04621404e-01],\n",
       "        [-1.74524724e-01],\n",
       "        [ 4.57600988e-02],\n",
       "        [-2.01858357e-01],\n",
       "        [-3.25494796e-01],\n",
       "        [-3.90148461e-02],\n",
       "        [-4.29404706e-01],\n",
       "        [ 1.20082527e-01],\n",
       "        [-8.73035192e-02],\n",
       "        [ 1.44775704e-01],\n",
       "        [-1.61813289e-01],\n",
       "        [-1.72468111e-01],\n",
       "        [-2.48403281e-01],\n",
       "        [-2.35306155e-02],\n",
       "        [-1.74601674e-01],\n",
       "        [-2.04723589e-02],\n",
       "        [-2.04135165e-01],\n",
       "        [-7.46640041e-02],\n",
       "        [ 4.59455281e-01],\n",
       "        [-6.50953352e-02],\n",
       "        [ 4.83596809e-02],\n",
       "        [ 2.20834941e-01],\n",
       "        [-5.13964258e-02],\n",
       "        [-3.37712258e-01],\n",
       "        [-5.99784136e-01],\n",
       "        [ 2.76631862e-01],\n",
       "        [-3.26280519e-02],\n",
       "        [-4.86996919e-02],\n",
       "        [ 3.59418124e-01],\n",
       "        [ 1.62231922e-01],\n",
       "        [ 1.32026300e-01],\n",
       "        [ 2.03725502e-01],\n",
       "        [ 1.05025046e-01],\n",
       "        [-3.62317175e-01],\n",
       "        [-1.45918190e-01],\n",
       "        [-2.53500938e-01],\n",
       "        [ 3.02889377e-01],\n",
       "        [-1.03323415e-01],\n",
       "        [-2.16914847e-01],\n",
       "        [ 1.13390431e-01],\n",
       "        [-5.67419641e-02],\n",
       "        [ 7.12565929e-02],\n",
       "        [ 1.94170207e-01],\n",
       "        [-2.58223504e-01],\n",
       "        [ 4.17062826e-02],\n",
       "        [-2.84931898e-01],\n",
       "        [ 2.87501842e-01],\n",
       "        [ 2.00356632e-01],\n",
       "        [-1.90847039e-01],\n",
       "        [-1.44178331e-01],\n",
       "        [ 3.55975449e-01],\n",
       "        [-5.18164396e-01],\n",
       "        [-4.81305197e-02],\n",
       "        [ 2.75774419e-01],\n",
       "        [ 8.48639756e-02],\n",
       "        [-7.25736395e-02],\n",
       "        [-7.37169906e-02],\n",
       "        [-1.77122802e-01],\n",
       "        [-2.77811978e-02],\n",
       "        [ 2.34723747e-01],\n",
       "        [-5.37669063e-01],\n",
       "        [ 1.44452691e-01],\n",
       "        [ 3.40627462e-01],\n",
       "        [ 2.81139940e-01],\n",
       "        [ 1.13364803e-02],\n",
       "        [-5.03150038e-02],\n",
       "        [-1.72109470e-01],\n",
       "        [-4.38239336e-01],\n",
       "        [-1.29453257e-01],\n",
       "        [-3.35791223e-02],\n",
       "        [ 5.77701628e-02],\n",
       "        [-1.05714366e-01],\n",
       "        [-9.91436839e-02],\n",
       "        [-2.13540643e-01],\n",
       "        [ 6.50664940e-02],\n",
       "        [ 3.19684073e-02],\n",
       "        [-2.59251922e-01],\n",
       "        [ 2.53512681e-01],\n",
       "        [ 5.41243076e-01],\n",
       "        [-4.33849931e-01],\n",
       "        [-9.65191424e-02],\n",
       "        [-1.90748736e-01],\n",
       "        [-2.29568303e-01],\n",
       "        [-1.95019349e-01],\n",
       "        [-1.47143215e-01],\n",
       "        [ 2.77156085e-01],\n",
       "        [ 6.99386373e-02],\n",
       "        [ 4.57563877e-01],\n",
       "        [ 4.02450591e-01],\n",
       "        [-3.12277913e-01],\n",
       "        [ 1.61171675e-01],\n",
       "        [-3.63091230e-01],\n",
       "        [-3.85440856e-01],\n",
       "        [ 4.98885848e-02],\n",
       "        [-1.89566910e-01],\n",
       "        [ 1.32429987e-01],\n",
       "        [-1.30741969e-01],\n",
       "        [ 1.06817007e-01],\n",
       "        [ 2.74221122e-01],\n",
       "        [ 3.56481262e-02],\n",
       "        [-1.44085288e-01],\n",
       "        [-1.53254464e-01],\n",
       "        [-1.20867245e-01],\n",
       "        [-1.11527771e-01],\n",
       "        [ 8.32866952e-02],\n",
       "        [-1.55347750e-01],\n",
       "        [ 1.48824349e-01],\n",
       "        [-2.26439312e-02],\n",
       "        [-1.00837462e-01],\n",
       "        [ 2.84144074e-01],\n",
       "        [-1.95716284e-02],\n",
       "        [-5.21615863e-01]], dtype=float32),\n",
       " array([-0.20804091], dtype=float32)]"
      ]
     },
     "execution_count": 13,
     "metadata": {},
     "output_type": "execute_result"
    }
   ],
   "source": [
    "model.get_weights()"
   ]
  },
  {
   "cell_type": "code",
   "execution_count": 14,
   "metadata": {},
   "outputs": [],
   "source": [
    "# Step 2: Helper Functions\n",
    "# Function to decode reviews\n",
    "def decode_review(encoded_review):\n",
    "    return ' '.join([reverse_word_index.get(i - 3, '?') for i in encoded_review])\n",
    "\n",
    "# Function to preprocess user input\n",
    "def preprocess_text(text):\n",
    "    words = text.lower().split()\n",
    "    encoded_review = [word_index.get(word, 2) + 3 for word in words]\n",
    "    padded_review = sequence.pad_sequences([encoded_review], maxlen=500)\n",
    "    return padded_review"
   ]
  },
  {
   "cell_type": "code",
   "execution_count": 15,
   "metadata": {},
   "outputs": [],
   "source": [
    "### Prediction  function\n",
    "\n",
    "def predict_sentiment(review):\n",
    "    preprocessed_input=preprocess_text(review)\n",
    "\n",
    "    prediction=model.predict(preprocessed_input)\n",
    "\n",
    "    sentiment = 'Positive' if prediction[0][0] > 0.5 else 'Negative'\n",
    "    \n",
    "    return sentiment, prediction[0][0]\n",
    "\n"
   ]
  },
  {
   "cell_type": "code",
   "execution_count": 16,
   "metadata": {},
   "outputs": [
    {
     "name": "stdout",
     "output_type": "stream",
     "text": [
      "\u001b[1m1/1\u001b[0m \u001b[32m━━━━━━━━━━━━━━━━━━━━\u001b[0m\u001b[37m\u001b[0m \u001b[1m0s\u001b[0m 103ms/step\n",
      "Review: The movie was very good\n",
      "Sentiment: Positive\n",
      "Prediction Score: 0.767963171005249\n"
     ]
    }
   ],
   "source": [
    "# Step 4: User Input and Prediction\n",
    "# Example review for prediction\n",
    "example_review = \"The movie was very good\"\n",
    "\n",
    "sentiment,score=predict_sentiment(example_review)\n",
    "\n",
    "print(f'Review: {example_review}')\n",
    "print(f'Sentiment: {sentiment}')\n",
    "print(f'Prediction Score: {score}')"
   ]
  },
  {
   "cell_type": "code",
   "execution_count": null,
   "metadata": {},
   "outputs": [],
   "source": []
  },
  {
   "cell_type": "code",
   "execution_count": null,
   "metadata": {},
   "outputs": [],
   "source": []
  },
  {
   "cell_type": "code",
   "execution_count": null,
   "metadata": {},
   "outputs": [],
   "source": []
  },
  {
   "cell_type": "code",
   "execution_count": null,
   "metadata": {},
   "outputs": [],
   "source": []
  }
 ],
 "metadata": {
  "kernelspec": {
   "display_name": "Python 3",
   "language": "python",
   "name": "python3"
  },
  "language_info": {
   "codemirror_mode": {
    "name": "ipython",
    "version": 3
   },
   "file_extension": ".py",
   "mimetype": "text/x-python",
   "name": "python",
   "nbconvert_exporter": "python",
   "pygments_lexer": "ipython3",
   "version": "3.12.0"
  }
 },
 "nbformat": 4,
 "nbformat_minor": 2
}
